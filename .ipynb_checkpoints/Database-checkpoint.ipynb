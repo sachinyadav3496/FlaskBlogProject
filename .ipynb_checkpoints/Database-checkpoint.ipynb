{
 "cells": [
  {
   "cell_type": "code",
   "execution_count": 1,
   "metadata": {},
   "outputs": [],
   "source": [
    "import pymysql as sql "
   ]
  },
  {
   "cell_type": "code",
   "execution_count": 2,
   "metadata": {},
   "outputs": [],
   "source": [
    "hostname = \"localhost\"\n",
    "port = 3306\n",
    "username = \"root\"\n",
    "password = \"\"\n"
   ]
  },
  {
   "cell_type": "code",
   "execution_count": 3,
   "metadata": {},
   "outputs": [],
   "source": [
    "connection = sql.connect(\n",
    "    host=hostname, \n",
    "    port=port,\n",
    "    user=username,\n",
    "    password=password,\n",
    "    )"
   ]
  },
  {
   "cell_type": "markdown",
   "metadata": {},
   "source": [
    "##### SQL"
   ]
  },
  {
   "cell_type": "code",
   "execution_count": 4,
   "metadata": {},
   "outputs": [],
   "source": [
    "query = \"SHOW DATABASES;\""
   ]
  },
  {
   "cell_type": "code",
   "execution_count": 5,
   "metadata": {},
   "outputs": [],
   "source": [
    "cursor = connection.cursor()"
   ]
  },
  {
   "cell_type": "code",
   "execution_count": 7,
   "metadata": {},
   "outputs": [
    {
     "data": {
      "text/plain": [
       "13"
      ]
     },
     "execution_count": 7,
     "metadata": {},
     "output_type": "execute_result"
    }
   ],
   "source": [
    "cursor.execute(query)"
   ]
  },
  {
   "cell_type": "code",
   "execution_count": 8,
   "metadata": {},
   "outputs": [],
   "source": [
    "output = cursor.fetchall()"
   ]
  },
  {
   "cell_type": "code",
   "execution_count": 9,
   "metadata": {},
   "outputs": [
    {
     "name": "stdout",
     "output_type": "stream",
     "text": [
      "(('bank',), ('demo',), ('employees',), ('information_schema',), ('infytq',), ('mysql',), ('mystudent',), ('performance_schema',), ('phpmyadmin',), ('sakila',), ('student',), ('test',), ('world',))\n"
     ]
    }
   ],
   "source": [
    "print(output)"
   ]
  },
  {
   "cell_type": "code",
   "execution_count": 10,
   "metadata": {},
   "outputs": [
    {
     "name": "stdout",
     "output_type": "stream",
     "text": [
      "bank\n",
      "demo\n",
      "employees\n",
      "information_schema\n",
      "infytq\n",
      "mysql\n",
      "mystudent\n",
      "performance_schema\n",
      "phpmyadmin\n",
      "sakila\n",
      "student\n",
      "test\n",
      "world\n"
     ]
    }
   ],
   "source": [
    "for dbname in output:\n",
    "    print(*dbname)"
   ]
  },
  {
   "cell_type": "code",
   "execution_count": 12,
   "metadata": {},
   "outputs": [],
   "source": [
    "query = \"CREATE DATABASE Blog;\""
   ]
  },
  {
   "cell_type": "code",
   "execution_count": 13,
   "metadata": {},
   "outputs": [
    {
     "data": {
      "text/plain": [
       "1"
      ]
     },
     "execution_count": 13,
     "metadata": {},
     "output_type": "execute_result"
    }
   ],
   "source": [
    "cursor.execute(query)"
   ]
  },
  {
   "cell_type": "code",
   "execution_count": 14,
   "metadata": {},
   "outputs": [],
   "source": [
    "def get_databases(cursor):\n",
    "    cursor.execute(\"SHOW DATABASES;\")\n",
    "    for sn, dbname in enumerate(cursor.fetchall()):\n",
    "        print(f\"{sn+1:>5} . {dbname}\")"
   ]
  },
  {
   "cell_type": "code",
   "execution_count": 15,
   "metadata": {},
   "outputs": [
    {
     "name": "stdout",
     "output_type": "stream",
     "text": [
      "    1 . ('bank',)\n",
      "    2 . ('blog',)\n",
      "    3 . ('demo',)\n",
      "    4 . ('employees',)\n",
      "    5 . ('information_schema',)\n",
      "    6 . ('infytq',)\n",
      "    7 . ('mysql',)\n",
      "    8 . ('mystudent',)\n",
      "    9 . ('performance_schema',)\n",
      "   10 . ('phpmyadmin',)\n",
      "   11 . ('sakila',)\n",
      "   12 . ('student',)\n",
      "   13 . ('test',)\n",
      "   14 . ('world',)\n"
     ]
    }
   ],
   "source": [
    "get_databases(cursor)"
   ]
  },
  {
   "cell_type": "code",
   "execution_count": null,
   "metadata": {},
   "outputs": [],
   "source": []
  },
  {
   "cell_type": "code",
   "execution_count": 19,
   "metadata": {},
   "outputs": [
    {
     "name": "stdout",
     "output_type": "stream",
     "text": [
      "0\n",
      "0\n"
     ]
    }
   ],
   "source": [
    "# local\n",
    "# remote\n",
    "query = [\"CREATE USER 'blog'@'localhost' IDENTIFIED BY 'blog';\", \n",
    "         \"CREATE USER 'blog'@'%' IDENTIFIED BY 'blog';\"\n",
    "        ]\n",
    "for q in query:\n",
    "    print(cursor.execute(q))"
   ]
  },
  {
   "cell_type": "code",
   "execution_count": 24,
   "metadata": {},
   "outputs": [],
   "source": [
    "def get_user(cursor):\n",
    "    query = \"SELECT user, host FROM mysql.user\"\n",
    "    print(\"total users: \", cursor.execute(query))\n",
    "    result = cursor.fetchall()\n",
    "    print(f\"{'user':>30} {'hostname':>30}\")\n",
    "    for user, host in result:\n",
    "        print(f\"{user:>30} {host:>30}\")"
   ]
  },
  {
   "cell_type": "code",
   "execution_count": 25,
   "metadata": {},
   "outputs": [
    {
     "name": "stdout",
     "output_type": "stream",
     "text": [
      "total users:  10\n",
      "                          user                       hostname\n",
      "                          blog                              %\n",
      "                          root                      127.0.0.1\n",
      "                          root                            ::1\n",
      "                          bank                      localhost\n",
      "                          blog                      localhost\n",
      "                           pma                      localhost\n",
      "                          root                      localhost\n",
      "                        sachin                      localhost\n",
      "                            st                      localhost\n",
      "                       student                      localhost\n"
     ]
    }
   ],
   "source": [
    "get_user(cursor)"
   ]
  },
  {
   "cell_type": "code",
   "execution_count": 26,
   "metadata": {},
   "outputs": [],
   "source": [
    "query = \"GRANT SELECT,COUNT ON  Blog.users TO 'blog'@'localhost';\"\n",
    "query = \"REVOKE SELECT,COUNT ON  Blog.users TO 'blog'@'localhost';\""
   ]
  },
  {
   "cell_type": "code",
   "execution_count": 29,
   "metadata": {},
   "outputs": [
    {
     "data": {
      "text/plain": [
       "0"
      ]
     },
     "execution_count": 29,
     "metadata": {},
     "output_type": "execute_result"
    }
   ],
   "source": [
    "query = \"GRANT ALL PRIVILEGES ON Blog.* TO 'blog'@'localhost';\"\n",
    "cursor.execute(query)"
   ]
  },
  {
   "cell_type": "code",
   "execution_count": 30,
   "metadata": {},
   "outputs": [
    {
     "data": {
      "text/plain": [
       "0"
      ]
     },
     "execution_count": 30,
     "metadata": {},
     "output_type": "execute_result"
    }
   ],
   "source": [
    "query = \"GRANT ALL PRIVILEGES ON Blog.* TO 'blog'@'%';\"\n",
    "cursor.execute(query)"
   ]
  },
  {
   "cell_type": "markdown",
   "metadata": {},
   "source": [
    "##### We have to Create Tables "
   ]
  },
  {
   "cell_type": "code",
   "execution_count": 35,
   "metadata": {},
   "outputs": [],
   "source": [
    "connection.close()"
   ]
  },
  {
   "cell_type": "code",
   "execution_count": 36,
   "metadata": {},
   "outputs": [],
   "source": [
    "cursor.close()"
   ]
  },
  {
   "cell_type": "code",
   "execution_count": 31,
   "metadata": {},
   "outputs": [],
   "source": []
  },
  {
   "cell_type": "code",
   "execution_count": 40,
   "metadata": {},
   "outputs": [],
   "source": [
    "def get_all_tables(cursor):\n",
    "    query = f\"SHOW TABLES\"\n",
    "    print(\"Total Tables: \", cursor.execute(query))\n",
    "    result = cursor.fetchall()\n",
    "    for table in result:\n",
    "        print(*table)"
   ]
  },
  {
   "cell_type": "code",
   "execution_count": 38,
   "metadata": {},
   "outputs": [],
   "source": [
    "connection = sql.connect(host='localhost', port=3306, user='blog', password='blog', database='blog')\n",
    "cursor = connection.cursor()"
   ]
  },
  {
   "cell_type": "code",
   "execution_count": 41,
   "metadata": {},
   "outputs": [
    {
     "name": "stdout",
     "output_type": "stream",
     "text": [
      "Total Tables:  0\n"
     ]
    }
   ],
   "source": [
    "get_all_tables(cursor)"
   ]
  },
  {
   "cell_type": "code",
   "execution_count": 42,
   "metadata": {},
   "outputs": [],
   "source": [
    "query = \"CREATE TABLE users(username VARCHAR(30) PRIMARY KEY, email  VARCHAR(30),\\\n",
    "password VARCHAR(30), first_name VARCHAR(30), last_name VARCHAR(30), ph_no VARCHAR(30))\""
   ]
  },
  {
   "cell_type": "code",
   "execution_count": 43,
   "metadata": {},
   "outputs": [
    {
     "data": {
      "text/plain": [
       "0"
      ]
     },
     "execution_count": 43,
     "metadata": {},
     "output_type": "execute_result"
    }
   ],
   "source": [
    "cursor.execute(query)"
   ]
  },
  {
   "cell_type": "code",
   "execution_count": 58,
   "metadata": {},
   "outputs": [
    {
     "data": {
      "text/plain": [
       "0"
      ]
     },
     "execution_count": 58,
     "metadata": {},
     "output_type": "execute_result"
    }
   ],
   "source": [
    "# DROP -> structure, schema + Data\n",
    "# TRUNCATE -> DATA\n",
    "\n",
    "query = \"DROP TABLE users\"\n",
    "cursor.execute(query)"
   ]
  },
  {
   "cell_type": "code",
   "execution_count": 59,
   "metadata": {},
   "outputs": [
    {
     "name": "stdout",
     "output_type": "stream",
     "text": [
      "Total Tables:  0\n"
     ]
    }
   ],
   "source": [
    "get_all_tables(cursor)"
   ]
  },
  {
   "cell_type": "code",
   "execution_count": 60,
   "metadata": {},
   "outputs": [],
   "source": [
    "query = \"CREATE TABLE users(username VARCHAR(30) PRIMARY KEY, email  VARCHAR(30) NOT NULL,\\\n",
    "password VARCHAR(30) NOT NULL, first_name VARCHAR(30) NOT NULL, last_name VARCHAR(30) NOT NULL,\\\n",
    "ph_no VARCHAR(30), sex ENUM('MALE', 'FEMALE', 'OTHER'))\""
   ]
  },
  {
   "cell_type": "code",
   "execution_count": 61,
   "metadata": {},
   "outputs": [
    {
     "data": {
      "text/plain": [
       "0"
      ]
     },
     "execution_count": 61,
     "metadata": {},
     "output_type": "execute_result"
    }
   ],
   "source": [
    "cursor.execute(query)"
   ]
  },
  {
   "cell_type": "code",
   "execution_count": 62,
   "metadata": {},
   "outputs": [
    {
     "name": "stdout",
     "output_type": "stream",
     "text": [
      "Total Tables:  1\n",
      "users\n"
     ]
    }
   ],
   "source": [
    "get_all_tables(cursor)"
   ]
  },
  {
   "cell_type": "code",
   "execution_count": 63,
   "metadata": {},
   "outputs": [
    {
     "data": {
      "text/plain": [
       "7"
      ]
     },
     "execution_count": 63,
     "metadata": {},
     "output_type": "execute_result"
    }
   ],
   "source": [
    "q = \"DESCRIBE users;\"\n",
    "# SCHEMA\n",
    "cursor.execute(q)"
   ]
  },
  {
   "cell_type": "code",
   "execution_count": 64,
   "metadata": {},
   "outputs": [],
   "source": [
    "result = cursor.fetchall()"
   ]
  },
  {
   "cell_type": "code",
   "execution_count": 76,
   "metadata": {},
   "outputs": [
    {
     "name": "stdout",
     "output_type": "stream",
     "text": [
      "______________________________________________________________\n",
      "  | Column Name |  Data Type | NULL Value | key   |    OTHER |\n",
      "______________________________________________________________\n",
      "['username', 'varchar(30)', 'NO', 'PRI', None, '']\n"
     ]
    },
    {
     "ename": "TypeError",
     "evalue": "unsupported format string passed to NoneType.__format__",
     "output_type": "error",
     "traceback": [
      "\u001b[1;31m---------------------------------------------------------------------------\u001b[0m",
      "\u001b[1;31mTypeError\u001b[0m                                 Traceback (most recent call last)",
      "\u001b[1;32m<ipython-input-76-193625461cb3>\u001b[0m in \u001b[0;36m<module>\u001b[1;34m\u001b[0m\n\u001b[0;32m      4\u001b[0m     \u001b[0mprint\u001b[0m\u001b[1;33m(\u001b[0m\u001b[1;34m\"__\"\u001b[0m\u001b[1;33m*\u001b[0m\u001b[1;36m31\u001b[0m\u001b[1;33m)\u001b[0m\u001b[1;33m\u001b[0m\u001b[1;33m\u001b[0m\u001b[0m\n\u001b[0;32m      5\u001b[0m     \u001b[0mprint\u001b[0m\u001b[1;33m(\u001b[0m\u001b[0mlist\u001b[0m\u001b[1;33m(\u001b[0m\u001b[0mrow\u001b[0m\u001b[1;33m)\u001b[0m\u001b[1;33m)\u001b[0m\u001b[1;33m\u001b[0m\u001b[1;33m\u001b[0m\u001b[0m\n\u001b[1;32m----> 6\u001b[1;33m     \u001b[0mprint\u001b[0m\u001b[1;33m(\u001b[0m\u001b[1;34m\"| {:>15} | {:>10} | {:>4} | {:>5} | {:>8} | {} \"\u001b[0m\u001b[1;33m.\u001b[0m\u001b[0mformat\u001b[0m\u001b[1;33m(\u001b[0m\u001b[1;33m*\u001b[0m\u001b[0mrow\u001b[0m\u001b[1;33m)\u001b[0m\u001b[1;33m)\u001b[0m\u001b[1;33m\u001b[0m\u001b[1;33m\u001b[0m\u001b[0m\n\u001b[0m\u001b[0;32m      7\u001b[0m \u001b[0mprint\u001b[0m\u001b[1;33m(\u001b[0m\u001b[1;34m\"__\"\u001b[0m\u001b[1;33m*\u001b[0m\u001b[1;36m31\u001b[0m\u001b[1;33m)\u001b[0m\u001b[1;33m\u001b[0m\u001b[1;33m\u001b[0m\u001b[0m\n\u001b[0;32m      8\u001b[0m \u001b[1;31m# column name, data type, nullable, KEYS, EXTRA\u001b[0m\u001b[1;33m\u001b[0m\u001b[1;33m\u001b[0m\u001b[1;33m\u001b[0m\u001b[0m\n",
      "\u001b[1;31mTypeError\u001b[0m: unsupported format string passed to NoneType.__format__"
     ]
    }
   ],
   "source": [
    "print(\"__\"*31)\n",
    "print(f\"{'| Column Name':>15} | {'Data Type':>10} | {'NULL Value':>4} | {'key':5} | {'OTHER':>8} |\")\n",
    "for row in result:\n",
    "    print(\"__\"*31)\n",
    "    print(list(row))\n",
    "    print(\"| {:>15} | {:>10} | {:>4} | {:>5} | {:>8} | {} \".format(*row))\n",
    "print(\"__\"*31)\n",
    "# column name, data type, nullable, KEYS, EXTRA "
   ]
  },
  {
   "cell_type": "code",
   "execution_count": null,
   "metadata": {},
   "outputs": [],
   "source": []
  }
 ],
 "metadata": {
  "kernelspec": {
   "display_name": "Python 3",
   "language": "python",
   "name": "python3"
  },
  "language_info": {
   "codemirror_mode": {
    "name": "ipython",
    "version": 3
   },
   "file_extension": ".py",
   "mimetype": "text/x-python",
   "name": "python",
   "nbconvert_exporter": "python",
   "pygments_lexer": "ipython3",
   "version": "3.8.3"
  }
 },
 "nbformat": 4,
 "nbformat_minor": 4
}
